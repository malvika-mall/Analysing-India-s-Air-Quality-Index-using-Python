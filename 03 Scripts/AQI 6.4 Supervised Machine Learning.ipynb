{
 "cells": [
  {
   "cell_type": "markdown",
   "id": "62aeebb7",
   "metadata": {},
   "source": [
    "### This script contains the following:\n",
    "\n",
    "#### 1. Importing libraries and data\n",
    "#### 2. Data cleaning\n",
    "#### 3. Data prep for regression analysis\n",
    "#### 4. Regression analysis\n",
    "#### Bonus: performance improvement after removing outliers"
   ]
  },
  {
   "cell_type": "markdown",
   "id": "06f973c0",
   "metadata": {},
   "source": [
    "# 1. Importing libraries and data"
   ]
  },
  {
   "cell_type": "code",
   "execution_count": 1,
   "id": "9531fa42",
   "metadata": {},
   "outputs": [],
   "source": [
    "import pandas as pd\n",
    "import numpy as np\n",
    "import seaborn as sns\n",
    "import matplotlib\n",
    "import matplotlib.pyplot as plt\n",
    "import os\n",
    "import sklearn\n",
    "from sklearn.model_selection import train_test_split \n",
    "from sklearn.linear_model import LinearRegression\n",
    "from sklearn.metrics import mean_squared_error, r2_score"
   ]
  },
  {
   "cell_type": "code",
   "execution_count": 2,
   "id": "a6b9cdde",
   "metadata": {},
   "outputs": [],
   "source": [
    "# This command propts matplotlib visuals to appear in the notebook \n",
    "%matplotlib inline"
   ]
  },
  {
   "cell_type": "code",
   "execution_count": 3,
   "id": "3dd244ce",
   "metadata": {},
   "outputs": [],
   "source": [
    "#Importing dataset\n",
    "path=r'C:\\Users\\User01\\Analysing India Air Quality Data'\n",
    "df = pd.read_pickle(os.path.join(path, '02 Data', 'Prepared Data', 'city_final.pkl'))"
   ]
  },
  {
   "cell_type": "code",
   "execution_count": 4,
   "id": "15874231",
   "metadata": {},
   "outputs": [
    {
     "data": {
      "text/html": [
       "<div>\n",
       "<style scoped>\n",
       "    .dataframe tbody tr th:only-of-type {\n",
       "        vertical-align: middle;\n",
       "    }\n",
       "\n",
       "    .dataframe tbody tr th {\n",
       "        vertical-align: top;\n",
       "    }\n",
       "\n",
       "    .dataframe thead th {\n",
       "        text-align: right;\n",
       "    }\n",
       "</style>\n",
       "<table border=\"1\" class=\"dataframe\">\n",
       "  <thead>\n",
       "    <tr style=\"text-align: right;\">\n",
       "      <th></th>\n",
       "      <th>State</th>\n",
       "      <th>City</th>\n",
       "      <th>Year</th>\n",
       "      <th>Month</th>\n",
       "      <th>PM</th>\n",
       "      <th>Nitric</th>\n",
       "      <th>CO</th>\n",
       "      <th>NH3</th>\n",
       "      <th>O3</th>\n",
       "      <th>SO2</th>\n",
       "      <th>BTX</th>\n",
       "      <th>AQI</th>\n",
       "      <th>Level_of_Concern</th>\n",
       "    </tr>\n",
       "  </thead>\n",
       "  <tbody>\n",
       "    <tr>\n",
       "      <th>0</th>\n",
       "      <td>Andhra Pradesh</td>\n",
       "      <td>Amaravati</td>\n",
       "      <td>2017</td>\n",
       "      <td>11</td>\n",
       "      <td>194.958571</td>\n",
       "      <td>43.172857</td>\n",
       "      <td>0.120000</td>\n",
       "      <td>11.531429</td>\n",
       "      <td>118.801429</td>\n",
       "      <td>18.595714</td>\n",
       "      <td>6.177143</td>\n",
       "      <td>157.857143</td>\n",
       "      <td>Hazardous</td>\n",
       "    </tr>\n",
       "    <tr>\n",
       "      <th>1</th>\n",
       "      <td>Andhra Pradesh</td>\n",
       "      <td>Amaravati</td>\n",
       "      <td>2017</td>\n",
       "      <td>12</td>\n",
       "      <td>229.464516</td>\n",
       "      <td>70.963548</td>\n",
       "      <td>0.151935</td>\n",
       "      <td>17.501290</td>\n",
       "      <td>77.179355</td>\n",
       "      <td>14.312903</td>\n",
       "      <td>4.726774</td>\n",
       "      <td>194.129032</td>\n",
       "      <td>Hazardous</td>\n",
       "    </tr>\n",
       "    <tr>\n",
       "      <th>2</th>\n",
       "      <td>Andhra Pradesh</td>\n",
       "      <td>Amaravati</td>\n",
       "      <td>2018</td>\n",
       "      <td>1</td>\n",
       "      <td>215.278387</td>\n",
       "      <td>73.489032</td>\n",
       "      <td>0.069355</td>\n",
       "      <td>21.212903</td>\n",
       "      <td>68.874194</td>\n",
       "      <td>14.839355</td>\n",
       "      <td>6.280645</td>\n",
       "      <td>172.451613</td>\n",
       "      <td>Hazardous</td>\n",
       "    </tr>\n",
       "    <tr>\n",
       "      <th>3</th>\n",
       "      <td>Andhra Pradesh</td>\n",
       "      <td>Amaravati</td>\n",
       "      <td>2018</td>\n",
       "      <td>2</td>\n",
       "      <td>155.282143</td>\n",
       "      <td>45.791786</td>\n",
       "      <td>0.575000</td>\n",
       "      <td>17.724643</td>\n",
       "      <td>28.923571</td>\n",
       "      <td>11.025714</td>\n",
       "      <td>3.023929</td>\n",
       "      <td>107.035714</td>\n",
       "      <td>Hazardous</td>\n",
       "    </tr>\n",
       "    <tr>\n",
       "      <th>4</th>\n",
       "      <td>Andhra Pradesh</td>\n",
       "      <td>Amaravati</td>\n",
       "      <td>2018</td>\n",
       "      <td>3</td>\n",
       "      <td>117.172581</td>\n",
       "      <td>35.543226</td>\n",
       "      <td>0.706774</td>\n",
       "      <td>13.217097</td>\n",
       "      <td>22.076452</td>\n",
       "      <td>10.769355</td>\n",
       "      <td>2.160000</td>\n",
       "      <td>77.516129</td>\n",
       "      <td>Hazardous</td>\n",
       "    </tr>\n",
       "  </tbody>\n",
       "</table>\n",
       "</div>"
      ],
      "text/plain": [
       "            State       City  Year  Month          PM     Nitric        CO  \\\n",
       "0  Andhra Pradesh  Amaravati  2017     11  194.958571  43.172857  0.120000   \n",
       "1  Andhra Pradesh  Amaravati  2017     12  229.464516  70.963548  0.151935   \n",
       "2  Andhra Pradesh  Amaravati  2018      1  215.278387  73.489032  0.069355   \n",
       "3  Andhra Pradesh  Amaravati  2018      2  155.282143  45.791786  0.575000   \n",
       "4  Andhra Pradesh  Amaravati  2018      3  117.172581  35.543226  0.706774   \n",
       "\n",
       "         NH3          O3        SO2       BTX         AQI Level_of_Concern  \n",
       "0  11.531429  118.801429  18.595714  6.177143  157.857143        Hazardous  \n",
       "1  17.501290   77.179355  14.312903  4.726774  194.129032        Hazardous  \n",
       "2  21.212903   68.874194  14.839355  6.280645  172.451613        Hazardous  \n",
       "3  17.724643   28.923571  11.025714  3.023929  107.035714        Hazardous  \n",
       "4  13.217097   22.076452  10.769355  2.160000   77.516129        Hazardous  "
      ]
     },
     "execution_count": 4,
     "metadata": {},
     "output_type": "execute_result"
    }
   ],
   "source": [
    "df.head()"
   ]
  },
  {
   "cell_type": "markdown",
   "id": "3e4d6f25",
   "metadata": {},
   "source": [
    "### 2. Data cleaning"
   ]
  },
  {
   "cell_type": "code",
   "execution_count": 5,
   "id": "999cb0da",
   "metadata": {},
   "outputs": [
    {
     "data": {
      "text/plain": [
       "Index(['State', 'City', 'Year', 'Month', 'PM', 'Nitric', 'CO', 'NH3', 'O3',\n",
       "       'SO2', 'BTX', 'AQI', 'Level_of_Concern'],\n",
       "      dtype='object')"
      ]
     },
     "execution_count": 5,
     "metadata": {},
     "output_type": "execute_result"
    }
   ],
   "source": [
    "df.columns"
   ]
  },
  {
   "cell_type": "code",
   "execution_count": 6,
   "id": "a3abf066",
   "metadata": {},
   "outputs": [
    {
     "data": {
      "text/plain": [
       "(1001, 13)"
      ]
     },
     "execution_count": 6,
     "metadata": {},
     "output_type": "execute_result"
    }
   ],
   "source": [
    "df.shape"
   ]
  },
  {
   "cell_type": "code",
   "execution_count": 7,
   "id": "b0ae5728",
   "metadata": {},
   "outputs": [
    {
     "data": {
      "text/plain": [
       "State               0\n",
       "City                0\n",
       "Year                0\n",
       "Month               0\n",
       "PM                  0\n",
       "Nitric              0\n",
       "CO                  0\n",
       "NH3                 0\n",
       "O3                  0\n",
       "SO2                 0\n",
       "BTX                 0\n",
       "AQI                 0\n",
       "Level_of_Concern    0\n",
       "dtype: int64"
      ]
     },
     "execution_count": 7,
     "metadata": {},
     "output_type": "execute_result"
    }
   ],
   "source": [
    "# Check for missing values\n",
    "\n",
    "df.isnull().sum()\n",
    "\n",
    "# No missing values to handle"
   ]
  },
  {
   "cell_type": "code",
   "execution_count": 8,
   "id": "4fd4c3aa",
   "metadata": {},
   "outputs": [],
   "source": [
    "# check for duplicate values\n",
    "\n",
    "dups = df.duplicated()"
   ]
  },
  {
   "cell_type": "code",
   "execution_count": 9,
   "id": "7990eee6",
   "metadata": {},
   "outputs": [
    {
     "data": {
      "text/plain": [
       "0       False\n",
       "1       False\n",
       "2       False\n",
       "3       False\n",
       "4       False\n",
       "        ...  \n",
       "1000    False\n",
       "1001    False\n",
       "1002    False\n",
       "1003    False\n",
       "1004    False\n",
       "Length: 1001, dtype: bool"
      ]
     },
     "execution_count": 9,
     "metadata": {},
     "output_type": "execute_result"
    }
   ],
   "source": [
    "dups"
   ]
  },
  {
   "cell_type": "code",
   "execution_count": 10,
   "id": "a582d252",
   "metadata": {},
   "outputs": [],
   "source": [
    "#No duplicated found"
   ]
  },
  {
   "cell_type": "markdown",
   "id": "0265137b",
   "metadata": {},
   "source": [
    "##### Extreme values checks"
   ]
  },
  {
   "cell_type": "code",
   "execution_count": 11,
   "id": "4ca2a63a",
   "metadata": {},
   "outputs": [
    {
     "name": "stderr",
     "output_type": "stream",
     "text": [
      "C:\\Users\\User01\\AppData\\Local\\Temp\\ipykernel_13296\\4282633757.py:1: UserWarning: \n",
      "\n",
      "`distplot` is a deprecated function and will be removed in seaborn v0.14.0.\n",
      "\n",
      "Please adapt your code to use either `displot` (a figure-level function with\n",
      "similar flexibility) or `histplot` (an axes-level function for histograms).\n",
      "\n",
      "For a guide to updating your code to use the new functions, please see\n",
      "https://gist.github.com/mwaskom/de44147ed2974457ad6372750bbe5751\n",
      "\n",
      "  sns.distplot(df['AQI'], bins=25) # Shows extreme values\n"
     ]
    },
    {
     "data": {
      "text/plain": [
       "<Axes: xlabel='AQI', ylabel='Density'>"
      ]
     },
     "execution_count": 11,
     "metadata": {},
     "output_type": "execute_result"
    },
    {
     "data": {
      "image/png": "[encoded data removed]",
      "text/plain": [
       "<Figure size 640x480 with 1 Axes>"
      ]
     },
     "metadata": {},
     "output_type": "display_data"
    }
   ],
   "source": [
    "sns.distplot(df['AQI'], bins=25) # Shows extreme values\n",
    "\n",
    "# Some of the outliers in the high values may need to be removed, but let's try without doing so first."
   ]
  },
  {
   "cell_type": "code",
   "execution_count": 12,
   "id": "43fbc1cc",
   "metadata": {},
   "outputs": [
    {
     "data": {
      "text/plain": [
       "137.05282746473196"
      ]
     },
     "execution_count": 12,
     "metadata": {},
     "output_type": "execute_result"
    }
   ],
   "source": [
    "df['AQI'].mean() # Check the mean"
   ]
  },
  {
   "cell_type": "code",
   "execution_count": 13,
   "id": "af8e5db9",
   "metadata": {},
   "outputs": [
    {
     "data": {
      "text/plain": [
       "106.0"
      ]
     },
     "execution_count": 13,
     "metadata": {},
     "output_type": "execute_result"
    }
   ],
   "source": [
    "df['AQI'].median() # Check the median"
   ]
  },
  {
   "cell_type": "code",
   "execution_count": 14,
   "id": "372cdf4e",
   "metadata": {},
   "outputs": [
    {
     "data": {
      "text/plain": [
       "955.3666666666668"
      ]
     },
     "execution_count": 14,
     "metadata": {},
     "output_type": "execute_result"
    }
   ],
   "source": [
    "df['AQI'].max() # Check the max"
   ]
  },
  {
   "cell_type": "markdown",
   "id": "7d70dd80",
   "metadata": {},
   "source": [
    "### 3. Data prep for regression analysis \n",
    "\n",
    "### Test Hypothesis: \"If concentration of PM is higher in the air, then air will be more polluted resulting into higher AQI.\""
   ]
  },
  {
   "cell_type": "code",
   "execution_count": 15,
   "id": "30d26149",
   "metadata": {},
   "outputs": [
    {
     "data": {
      "image/png": "[encoded data removed]",
      "text/plain": [
       "<Figure size 640x480 with 1 Axes>"
      ]
     },
     "metadata": {},
     "output_type": "display_data"
    }
   ],
   "source": [
    "# Create a scatterplot using matplotlib for another look at how the chosen variables plot against each other.\n",
    "df.plot(x = 'PM', y='AQI',style='o') # The style option creates a scatterplot; without it, we only have lines.\n",
    "plt.title('PM vs AQI')  \n",
    "plt.xlabel('PM')  \n",
    "plt.ylabel('AQI')  \n",
    "plt.show()"
   ]
  },
  {
   "cell_type": "code",
   "execution_count": 16,
   "id": "2a254a41",
   "metadata": {},
   "outputs": [],
   "source": [
    "# Reshape the variables into NumPy arrays and put them into separate objects.\n",
    "X = df['PM'].values.reshape(-1,1)\n",
    "y = df['AQI'].values.reshape(-1,1)"
   ]
  },
  {
   "cell_type": "code",
   "execution_count": 17,
   "id": "873fb5cd",
   "metadata": {},
   "outputs": [
    {
     "data": {
      "text/plain": [
       "array([[194.95857143],\n",
       "       [229.46451613],\n",
       "       [215.2783871 ],\n",
       "       ...,\n",
       "       [ 54.01451613],\n",
       "       [ 48.40366667],\n",
       "       [ 42.11      ]])"
      ]
     },
     "execution_count": 17,
     "metadata": {},
     "output_type": "execute_result"
    }
   ],
   "source": [
    "X"
   ]
  },
  {
   "cell_type": "code",
   "execution_count": 18,
   "id": "db84b343",
   "metadata": {},
   "outputs": [
    {
     "data": {
      "text/plain": [
       "array([[157.85714286],\n",
       "       [194.12903226],\n",
       "       [172.4516129 ],\n",
       "       ...,\n",
       "       [ 53.16129032],\n",
       "       [ 46.46666667],\n",
       "       [ 45.        ]])"
      ]
     },
     "execution_count": 18,
     "metadata": {},
     "output_type": "execute_result"
    }
   ],
   "source": [
    "y"
   ]
  },
  {
   "cell_type": "code",
   "execution_count": 19,
   "id": "9fe31f2b",
   "metadata": {},
   "outputs": [],
   "source": [
    "# Split data into a training set and a test set.\n",
    "X_train, X_test, y_train, y_test = train_test_split(X, y, test_size=0.3, random_state=0)"
   ]
  },
  {
   "cell_type": "markdown",
   "id": "3b7b8765",
   "metadata": {},
   "source": [
    "### 4. Regression analysis"
   ]
  },
  {
   "cell_type": "code",
   "execution_count": 20,
   "id": "5fc87187",
   "metadata": {},
   "outputs": [],
   "source": [
    "# Create a regression object.\n",
    "regression = LinearRegression()  # This is the regression object, which will be fit onto the training set."
   ]
  },
  {
   "cell_type": "code",
   "execution_count": 21,
   "id": "de75ea5d",
   "metadata": {},
   "outputs": [
    {
     "data": {
      "text/html": [
       "<style>#sk-container-id-1 {color: black;background-color: white;}#sk-container-id-1 pre{padding: 0;}#sk-container-id-1 div.sk-toggleable {background-color: white;}#sk-container-id-1 label.sk-toggleable__label {cursor: pointer;display: block;width: 100%;margin-bottom: 0;padding: 0.3em;box-sizing: border-box;text-align: center;}#sk-container-id-1 label.sk-toggleable__label-arrow:before {content: \"▸\";float: left;margin-right: 0.25em;color: #696969;}#sk-container-id-1 label.sk-toggleable__label-arrow:hover:before {color: black;}#sk-container-id-1 div.sk-estimator:hover label.sk-toggleable__label-arrow:before {color: black;}#sk-container-id-1 div.sk-toggleable__content {max-height: 0;max-width: 0;overflow: hidden;text-align: left;background-color: #f0f8ff;}#sk-container-id-1 div.sk-toggleable__content pre {margin: 0.2em;color: black;border-radius: 0.25em;background-color: #f0f8ff;}#sk-container-id-1 input.sk-toggleable__control:checked~div.sk-toggleable__content {max-height: 200px;max-width: 100%;overflow: auto;}#sk-container-id-1 input.sk-toggleable__control:checked~label.sk-toggleable__label-arrow:before {content: \"▾\";}#sk-container-id-1 div.sk-estimator input.sk-toggleable__control:checked~label.sk-toggleable__label {background-color: #d4ebff;}#sk-container-id-1 div.sk-label input.sk-toggleable__control:checked~label.sk-toggleable__label {background-color: #d4ebff;}#sk-container-id-1 input.sk-hidden--visually {border: 0;clip: rect(1px 1px 1px 1px);clip: rect(1px, 1px, 1px, 1px);height: 1px;margin: -1px;overflow: hidden;padding: 0;position: absolute;width: 1px;}#sk-container-id-1 div.sk-estimator {font-family: monospace;background-color: #f0f8ff;border: 1px dotted black;border-radius: 0.25em;box-sizing: border-box;margin-bottom: 0.5em;}#sk-container-id-1 div.sk-estimator:hover {background-color: #d4ebff;}#sk-container-id-1 div.sk-parallel-item::after {content: \"\";width: 100%;border-bottom: 1px solid gray;flex-grow: 1;}#sk-container-id-1 div.sk-label:hover label.sk-toggleable__label {background-color: #d4ebff;}#sk-container-id-1 div.sk-serial::before {content: \"\";position: absolute;border-left: 1px solid gray;box-sizing: border-box;top: 0;bottom: 0;left: 50%;z-index: 0;}#sk-container-id-1 div.sk-serial {display: flex;flex-direction: column;align-items: center;background-color: white;padding-right: 0.2em;padding-left: 0.2em;position: relative;}#sk-container-id-1 div.sk-item {position: relative;z-index: 1;}#sk-container-id-1 div.sk-parallel {display: flex;align-items: stretch;justify-content: center;background-color: white;position: relative;}#sk-container-id-1 div.sk-item::before, #sk-container-id-1 div.sk-parallel-item::before {content: \"\";position: absolute;border-left: 1px solid gray;box-sizing: border-box;top: 0;bottom: 0;left: 50%;z-index: -1;}#sk-container-id-1 div.sk-parallel-item {display: flex;flex-direction: column;z-index: 1;position: relative;background-color: white;}#sk-container-id-1 div.sk-parallel-item:first-child::after {align-self: flex-end;width: 50%;}#sk-container-id-1 div.sk-parallel-item:last-child::after {align-self: flex-start;width: 50%;}#sk-container-id-1 div.sk-parallel-item:only-child::after {width: 0;}#sk-container-id-1 div.sk-dashed-wrapped {border: 1px dashed gray;margin: 0 0.4em 0.5em 0.4em;box-sizing: border-box;padding-bottom: 0.4em;background-color: white;}#sk-container-id-1 div.sk-label label {font-family: monospace;font-weight: bold;display: inline-block;line-height: 1.2em;}#sk-container-id-1 div.sk-label-container {text-align: center;}#sk-container-id-1 div.sk-container {/* jupyter's `normalize.less` sets `[hidden] { display: none; }` but bootstrap.min.css set `[hidden] { display: none !important; }` so we also need the `!important` here to be able to override the default hidden behavior on the sphinx rendered scikit-learn.org. See: https://github.com/scikit-learn/scikit-learn/issues/21755 */display: inline-block !important;position: relative;}#sk-container-id-1 div.sk-text-repr-fallback {display: none;}</style><div id=\"sk-container-id-1\" class=\"sk-top-container\"><div class=\"sk-text-repr-fallback\"><pre>LinearRegression()</pre><b>In a Jupyter environment, please rerun this cell to show the HTML representation or trust the notebook. <br />On GitHub, the HTML representation is unable to render, please try loading this page with nbviewer.org.</b></div><div class=\"sk-container\" hidden><div class=\"sk-item\"><div class=\"sk-estimator sk-toggleable\"><input class=\"sk-toggleable__control sk-hidden--visually\" id=\"sk-estimator-id-1\" type=\"checkbox\" checked><label for=\"sk-estimator-id-1\" class=\"sk-toggleable__label sk-toggleable__label-arrow\">LinearRegression</label><div class=\"sk-toggleable__content\"><pre>LinearRegression()</pre></div></div></div></div></div>"
      ],
      "text/plain": [
       "LinearRegression()"
      ]
     },
     "execution_count": 21,
     "metadata": {},
     "output_type": "execute_result"
    }
   ],
   "source": [
    "# Fit the regression object onto the training set.\n",
    "regression.fit(X_train, y_train)"
   ]
  },
  {
   "cell_type": "code",
   "execution_count": 22,
   "id": "89c6ff4e",
   "metadata": {},
   "outputs": [],
   "source": [
    "# Predict the values of y using X.\n",
    "y_predicted = regression.predict(X_test)"
   ]
  },
  {
   "cell_type": "code",
   "execution_count": 23,
   "id": "53a57072",
   "metadata": {},
   "outputs": [
    {
     "data": {
      "image/png": "[encoded data removed]",
      "text/plain": [
       "<Figure size 640x480 with 1 Axes>"
      ]
     },
     "metadata": {},
     "output_type": "display_data"
    }
   ],
   "source": [
    "# Create a plot that shows the regression line from the model on the test set.\n",
    "plot_test = plt\n",
    "plot_test.scatter(X_test, y_test, color='blue', s = 15)\n",
    "plot_test.plot(X_test, y_predicted, color='red', linewidth =3)\n",
    "plot_test.title('PM Concentration vs AQI (Test set)')\n",
    "plot_test.xlabel('PM')\n",
    "plot_test.ylabel('AQI')\n",
    "plot_test.show()"
   ]
  },
  {
   "cell_type": "code",
   "execution_count": 24,
   "id": "eedf5b3d",
   "metadata": {},
   "outputs": [],
   "source": [
    "# Create objects that contain the model summary statistics.\n",
    "rmse = mean_squared_error(y_test, y_predicted) # This is the mean squared error\n",
    "r2 = r2_score(y_test, y_predicted) # This is the R2 score. "
   ]
  },
  {
   "cell_type": "code",
   "execution_count": 25,
   "id": "073f82c5",
   "metadata": {},
   "outputs": [
    {
     "name": "stdout",
     "output_type": "stream",
     "text": [
      "Slope: [[0.64940439]]\n",
      "Mean squared error:  9767.378822332917\n",
      "R2 score:  0.35785753727650704\n"
     ]
    }
   ],
   "source": [
    "# Print the model summary statistics. This is where you evaluate the performance of the model.\n",
    "print('Slope:' ,regression.coef_)\n",
    "print('Mean squared error: ', rmse)\n",
    "print('R2 score: ', r2)"
   ]
  },
  {
   "cell_type": "markdown",
   "id": "e69c840f",
   "metadata": {},
   "source": [
    "# The linear regression model is fit to the data as we have a positive slope but with a relatively low R2 score, indicating that it explains only 35.8% of the variability in the target variable."
   ]
  },
  {
   "cell_type": "code",
   "execution_count": 26,
   "id": "3aeffb83",
   "metadata": {},
   "outputs": [
    {
     "data": {
      "text/plain": [
       "array([[129.47242422],\n",
       "       [104.99595379],\n",
       "       [389.95651347],\n",
       "       [ 95.87873512],\n",
       "       [ 75.39974673],\n",
       "       [ 83.37226796],\n",
       "       [114.65118124],\n",
       "       [186.57020193],\n",
       "       [171.00246343],\n",
       "       [232.54945027],\n",
       "       [ 70.37140854],\n",
       "       [ 83.80931711],\n",
       "       [135.04710703],\n",
       "       [120.74505767],\n",
       "       [ 89.41871762],\n",
       "       [157.77171485],\n",
       "       [ 52.37576348],\n",
       "       [147.02555761],\n",
       "       [212.41162962],\n",
       "       [127.18541748],\n",
       "       [ 81.20195849],\n",
       "       [196.15619979],\n",
       "       [118.40850068],\n",
       "       [101.02872142],\n",
       "       [206.72987888],\n",
       "       [138.28442282],\n",
       "       [167.80173772],\n",
       "       [141.57962639],\n",
       "       [197.74577415],\n",
       "       [201.39102763],\n",
       "       [156.11075489],\n",
       "       [168.94125389],\n",
       "       [ 52.37576348],\n",
       "       [204.88467362],\n",
       "       [ 73.38776624],\n",
       "       [282.34431251],\n",
       "       [210.39659064],\n",
       "       [151.93280825],\n",
       "       [158.41879781],\n",
       "       [324.72276014],\n",
       "       [174.01088163],\n",
       "       [ 98.59257512],\n",
       "       [145.25914568],\n",
       "       [ 74.28774995],\n",
       "       [371.39692704],\n",
       "       [107.89585862],\n",
       "       [128.3321958 ],\n",
       "       [134.73113338],\n",
       "       [123.66130236],\n",
       "       [195.10947405],\n",
       "       [ 52.37576348],\n",
       "       [127.75443538],\n",
       "       [544.73447347],\n",
       "       [ 53.63344332],\n",
       "       [ 86.20784684],\n",
       "       [ 52.37576348],\n",
       "       [149.58380783],\n",
       "       [ 89.48650107],\n",
       "       [124.34231013],\n",
       "       [ 52.37576348],\n",
       "       [124.58909873],\n",
       "       [277.38696289],\n",
       "       [170.08240404],\n",
       "       [ 98.38166533],\n",
       "       [205.85993986],\n",
       "       [178.26821621],\n",
       "       [366.94766903],\n",
       "       [129.92533141],\n",
       "       [492.45910293],\n",
       "       [ 79.0840343 ],\n",
       "       [129.97854067],\n",
       "       [386.09252942],\n",
       "       [107.4760501 ],\n",
       "       [190.76907615],\n",
       "       [160.95054934],\n",
       "       [105.49117701],\n",
       "       [176.23666281],\n",
       "       [166.91058731],\n",
       "       [ 52.37576348],\n",
       "       [ 84.79078361],\n",
       "       [387.26983673],\n",
       "       [ 96.02786071],\n",
       "       [ 85.74237053],\n",
       "       [128.21807869],\n",
       "       [ 93.90950359],\n",
       "       [ 93.17490852],\n",
       "       [ 87.15569794],\n",
       "       [115.70871016],\n",
       "       [198.3601945 ],\n",
       "       [132.95323175],\n",
       "       [130.41685372],\n",
       "       [132.82462873],\n",
       "       [130.97512503],\n",
       "       [276.36745985],\n",
       "       [120.1430598 ],\n",
       "       [ 96.29058319],\n",
       "       [152.78687977],\n",
       "       [137.40018543],\n",
       "       [135.09967786],\n",
       "       [217.25837848],\n",
       "       [155.41026402],\n",
       "       [ 82.46266888],\n",
       "       [102.33054679],\n",
       "       [105.46205855],\n",
       "       [ 78.40648906],\n",
       "       [ 88.54716904],\n",
       "       [164.67942935],\n",
       "       [233.5998514 ],\n",
       "       [167.95780426],\n",
       "       [ 89.02689035],\n",
       "       [124.19716572],\n",
       "       [ 89.91636488],\n",
       "       [ 94.12408636],\n",
       "       [135.7731132 ],\n",
       "       [275.21022123],\n",
       "       [192.42359095],\n",
       "       [ 87.80272118],\n",
       "       [191.17945783],\n",
       "       [227.83309852],\n",
       "       [ 89.27838442],\n",
       "       [161.20205545],\n",
       "       [ 52.37576348],\n",
       "       [114.36078406],\n",
       "       [309.80592584],\n",
       "       [199.29722917],\n",
       "       [ 75.085435  ],\n",
       "       [ 88.36659272],\n",
       "       [155.50139012],\n",
       "       [202.66092744],\n",
       "       [ 52.37576348],\n",
       "       [114.347377  ],\n",
       "       [ 52.37576348],\n",
       "       [256.05265206],\n",
       "       [106.91577472],\n",
       "       [ 67.28106063],\n",
       "       [ 81.79248355],\n",
       "       [ 84.17947762],\n",
       "       [ 94.97962427],\n",
       "       [139.38050041],\n",
       "       [171.48742186],\n",
       "       [122.10692153],\n",
       "       [161.56745558],\n",
       "       [106.85170015],\n",
       "       [306.49147207],\n",
       "       [262.45955008],\n",
       "       [250.75770194],\n",
       "       [194.84733572],\n",
       "       [155.90967694],\n",
       "       [130.60154992],\n",
       "       [ 52.37576348],\n",
       "       [ 76.36601856],\n",
       "       [101.10246024],\n",
       "       [ 72.55317685],\n",
       "       [156.05024157],\n",
       "       [ 77.11031979],\n",
       "       [328.44406377],\n",
       "       [ 52.37576348],\n",
       "       [165.17990366],\n",
       "       [ 74.72176855],\n",
       "       [105.21381849],\n",
       "       [100.01879285],\n",
       "       [116.37196851],\n",
       "       [112.40796222],\n",
       "       [ 77.83555785],\n",
       "       [ 66.27238897],\n",
       "       [108.49636316],\n",
       "       [ 52.37576348],\n",
       "       [ 82.90080037],\n",
       "       [118.7126384 ],\n",
       "       [356.33793053],\n",
       "       [135.65852475],\n",
       "       [159.70115115],\n",
       "       [ 94.92928495],\n",
       "       [ 79.62644757],\n",
       "       [194.46454831],\n",
       "       [121.1405659 ],\n",
       "       [346.33641163],\n",
       "       [150.22298934],\n",
       "       [167.06750576],\n",
       "       [121.32030427],\n",
       "       [137.20285029],\n",
       "       [ 65.51278136],\n",
       "       [ 99.75019574],\n",
       "       [ 78.93705244],\n",
       "       [ 84.50179866],\n",
       "       [ 84.04637765],\n",
       "       [160.67819053],\n",
       "       [176.50378448],\n",
       "       [ 92.7636889 ],\n",
       "       [ 81.15778502],\n",
       "       [147.76467949],\n",
       "       [ 86.76033436],\n",
       "       [101.54541688],\n",
       "       [ 95.92893478],\n",
       "       [124.11735183],\n",
       "       [ 58.79187886],\n",
       "       [152.29563677],\n",
       "       [ 81.84097241],\n",
       "       [ 94.20725201],\n",
       "       [234.84163828],\n",
       "       [100.58859283],\n",
       "       [150.41223136],\n",
       "       [214.56729308],\n",
       "       [101.5857428 ],\n",
       "       [152.20870038],\n",
       "       [132.46890177],\n",
       "       [200.56377023],\n",
       "       [ 52.37576348],\n",
       "       [132.12806921],\n",
       "       [152.82996391],\n",
       "       [ 52.37576348],\n",
       "       [ 52.37576348],\n",
       "       [ 85.85423568],\n",
       "       [142.78751856],\n",
       "       [ 86.6234028 ],\n",
       "       [114.8557978 ],\n",
       "       [174.38672617],\n",
       "       [136.42230811],\n",
       "       [ 85.38498863],\n",
       "       [321.87418619],\n",
       "       [176.75325353],\n",
       "       [191.29936571],\n",
       "       [106.72169358],\n",
       "       [294.19384777],\n",
       "       [341.28993201],\n",
       "       [174.17826038],\n",
       "       [ 52.37576348],\n",
       "       [101.08130223],\n",
       "       [146.24004557],\n",
       "       [ 64.10819647],\n",
       "       [ 85.04037137],\n",
       "       [119.69441414],\n",
       "       [290.88164797],\n",
       "       [212.08043338],\n",
       "       [ 82.18645554],\n",
       "       [164.53396276],\n",
       "       [142.02759811],\n",
       "       [ 52.37576348],\n",
       "       [ 84.8003152 ],\n",
       "       [ 85.5278576 ],\n",
       "       [129.28493489],\n",
       "       [122.49758365],\n",
       "       [130.01436266],\n",
       "       [ 84.04742507],\n",
       "       [224.58005736],\n",
       "       [ 52.37576348],\n",
       "       [ 98.92268902],\n",
       "       [192.17849316],\n",
       "       [200.85914449],\n",
       "       [ 75.36554476],\n",
       "       [306.83524465],\n",
       "       [ 79.91888903],\n",
       "       [161.89865182],\n",
       "       [155.5856032 ],\n",
       "       [ 92.71362192],\n",
       "       [189.19856495],\n",
       "       [119.33195372],\n",
       "       [122.78332159],\n",
       "       [119.44408421],\n",
       "       [100.92978152],\n",
       "       [108.37412051],\n",
       "       [ 88.32008001],\n",
       "       [105.2266739 ],\n",
       "       [184.50769359],\n",
       "       [168.3672252 ],\n",
       "       [119.95904643],\n",
       "       [ 81.37334538],\n",
       "       [112.36579283],\n",
       "       [141.76732521],\n",
       "       [127.33694517],\n",
       "       [135.20103133],\n",
       "       [110.14845391],\n",
       "       [ 92.4857927 ],\n",
       "       [214.90722784],\n",
       "       [117.75821645],\n",
       "       [ 54.19474518],\n",
       "       [107.33297165],\n",
       "       [142.69470959],\n",
       "       [ 63.37667385],\n",
       "       [196.71519732],\n",
       "       [ 86.93987921],\n",
       "       [ 52.37576348],\n",
       "       [ 88.13521622],\n",
       "       [ 85.00414438],\n",
       "       [183.18864155],\n",
       "       [ 69.75780518],\n",
       "       [104.72990747],\n",
       "       [111.71980305],\n",
       "       [ 96.30277524],\n",
       "       [244.88038273],\n",
       "       [106.01363331],\n",
       "       [222.1707112 ],\n",
       "       [ 96.49326719],\n",
       "       [ 73.81134549],\n",
       "       [153.26051902],\n",
       "       [ 52.37576348],\n",
       "       [ 79.48295015],\n",
       "       [ 64.2620285 ],\n",
       "       [165.21291854],\n",
       "       [106.77225635],\n",
       "       [155.22445057]])"
      ]
     },
     "execution_count": 26,
     "metadata": {},
     "output_type": "execute_result"
    }
   ],
   "source": [
    "y_predicted"
   ]
  },
  {
   "cell_type": "code",
   "execution_count": 27,
   "id": "0b2c2d8e",
   "metadata": {},
   "outputs": [
    {
     "data": {
      "text/html": [
       "<div>\n",
       "<style scoped>\n",
       "    .dataframe tbody tr th:only-of-type {\n",
       "        vertical-align: middle;\n",
       "    }\n",
       "\n",
       "    .dataframe tbody tr th {\n",
       "        vertical-align: top;\n",
       "    }\n",
       "\n",
       "    .dataframe thead th {\n",
       "        text-align: right;\n",
       "    }\n",
       "</style>\n",
       "<table border=\"1\" class=\"dataframe\">\n",
       "  <thead>\n",
       "    <tr style=\"text-align: right;\">\n",
       "      <th></th>\n",
       "      <th>Actual</th>\n",
       "      <th>Predicted</th>\n",
       "    </tr>\n",
       "  </thead>\n",
       "  <tbody>\n",
       "    <tr>\n",
       "      <th>0</th>\n",
       "      <td>80.064516</td>\n",
       "      <td>129.472424</td>\n",
       "    </tr>\n",
       "    <tr>\n",
       "      <th>1</th>\n",
       "      <td>73.161290</td>\n",
       "      <td>104.995954</td>\n",
       "    </tr>\n",
       "    <tr>\n",
       "      <th>2</th>\n",
       "      <td>356.100000</td>\n",
       "      <td>389.956513</td>\n",
       "    </tr>\n",
       "    <tr>\n",
       "      <th>3</th>\n",
       "      <td>601.741935</td>\n",
       "      <td>95.878735</td>\n",
       "    </tr>\n",
       "    <tr>\n",
       "      <th>4</th>\n",
       "      <td>120.733333</td>\n",
       "      <td>75.399747</td>\n",
       "    </tr>\n",
       "    <tr>\n",
       "      <th>5</th>\n",
       "      <td>59.366667</td>\n",
       "      <td>83.372268</td>\n",
       "    </tr>\n",
       "    <tr>\n",
       "      <th>6</th>\n",
       "      <td>67.103448</td>\n",
       "      <td>114.651181</td>\n",
       "    </tr>\n",
       "    <tr>\n",
       "      <th>7</th>\n",
       "      <td>168.466667</td>\n",
       "      <td>186.570202</td>\n",
       "    </tr>\n",
       "    <tr>\n",
       "      <th>8</th>\n",
       "      <td>101.000000</td>\n",
       "      <td>171.002463</td>\n",
       "    </tr>\n",
       "    <tr>\n",
       "      <th>9</th>\n",
       "      <td>216.935484</td>\n",
       "      <td>232.549450</td>\n",
       "    </tr>\n",
       "    <tr>\n",
       "      <th>10</th>\n",
       "      <td>30.500000</td>\n",
       "      <td>70.371409</td>\n",
       "    </tr>\n",
       "    <tr>\n",
       "      <th>11</th>\n",
       "      <td>46.466667</td>\n",
       "      <td>83.809317</td>\n",
       "    </tr>\n",
       "    <tr>\n",
       "      <th>12</th>\n",
       "      <td>86.800000</td>\n",
       "      <td>135.047107</td>\n",
       "    </tr>\n",
       "    <tr>\n",
       "      <th>13</th>\n",
       "      <td>66.000000</td>\n",
       "      <td>120.745058</td>\n",
       "    </tr>\n",
       "    <tr>\n",
       "      <th>14</th>\n",
       "      <td>116.142857</td>\n",
       "      <td>89.418718</td>\n",
       "    </tr>\n",
       "    <tr>\n",
       "      <th>15</th>\n",
       "      <td>125.166667</td>\n",
       "      <td>157.771715</td>\n",
       "    </tr>\n",
       "    <tr>\n",
       "      <th>16</th>\n",
       "      <td>0.000000</td>\n",
       "      <td>52.375763</td>\n",
       "    </tr>\n",
       "    <tr>\n",
       "      <th>17</th>\n",
       "      <td>259.068966</td>\n",
       "      <td>147.025558</td>\n",
       "    </tr>\n",
       "    <tr>\n",
       "      <th>18</th>\n",
       "      <td>218.612903</td>\n",
       "      <td>212.411630</td>\n",
       "    </tr>\n",
       "    <tr>\n",
       "      <th>19</th>\n",
       "      <td>79.033333</td>\n",
       "      <td>127.185417</td>\n",
       "    </tr>\n",
       "    <tr>\n",
       "      <th>20</th>\n",
       "      <td>47.866667</td>\n",
       "      <td>81.201958</td>\n",
       "    </tr>\n",
       "    <tr>\n",
       "      <th>21</th>\n",
       "      <td>145.580645</td>\n",
       "      <td>196.156200</td>\n",
       "    </tr>\n",
       "    <tr>\n",
       "      <th>22</th>\n",
       "      <td>257.200000</td>\n",
       "      <td>118.408501</td>\n",
       "    </tr>\n",
       "    <tr>\n",
       "      <th>23</th>\n",
       "      <td>254.967742</td>\n",
       "      <td>101.028721</td>\n",
       "    </tr>\n",
       "    <tr>\n",
       "      <th>24</th>\n",
       "      <td>385.633333</td>\n",
       "      <td>206.729879</td>\n",
       "    </tr>\n",
       "    <tr>\n",
       "      <th>25</th>\n",
       "      <td>88.838710</td>\n",
       "      <td>138.284423</td>\n",
       "    </tr>\n",
       "    <tr>\n",
       "      <th>26</th>\n",
       "      <td>170.548387</td>\n",
       "      <td>167.801738</td>\n",
       "    </tr>\n",
       "    <tr>\n",
       "      <th>27</th>\n",
       "      <td>91.838710</td>\n",
       "      <td>141.579626</td>\n",
       "    </tr>\n",
       "    <tr>\n",
       "      <th>28</th>\n",
       "      <td>110.258065</td>\n",
       "      <td>197.745774</td>\n",
       "    </tr>\n",
       "    <tr>\n",
       "      <th>29</th>\n",
       "      <td>194.129032</td>\n",
       "      <td>201.391028</td>\n",
       "    </tr>\n",
       "  </tbody>\n",
       "</table>\n",
       "</div>"
      ],
      "text/plain": [
       "        Actual   Predicted\n",
       "0    80.064516  129.472424\n",
       "1    73.161290  104.995954\n",
       "2   356.100000  389.956513\n",
       "3   601.741935   95.878735\n",
       "4   120.733333   75.399747\n",
       "5    59.366667   83.372268\n",
       "6    67.103448  114.651181\n",
       "7   168.466667  186.570202\n",
       "8   101.000000  171.002463\n",
       "9   216.935484  232.549450\n",
       "10   30.500000   70.371409\n",
       "11   46.466667   83.809317\n",
       "12   86.800000  135.047107\n",
       "13   66.000000  120.745058\n",
       "14  116.142857   89.418718\n",
       "15  125.166667  157.771715\n",
       "16    0.000000   52.375763\n",
       "17  259.068966  147.025558\n",
       "18  218.612903  212.411630\n",
       "19   79.033333  127.185417\n",
       "20   47.866667   81.201958\n",
       "21  145.580645  196.156200\n",
       "22  257.200000  118.408501\n",
       "23  254.967742  101.028721\n",
       "24  385.633333  206.729879\n",
       "25   88.838710  138.284423\n",
       "26  170.548387  167.801738\n",
       "27   91.838710  141.579626\n",
       "28  110.258065  197.745774\n",
       "29  194.129032  201.391028"
      ]
     },
     "execution_count": 27,
     "metadata": {},
     "output_type": "execute_result"
    }
   ],
   "source": [
    "# Create a dataframe comparing the actual and predicted values of y.\n",
    "data = pd.DataFrame({'Actual': y_test.flatten(), 'Predicted': y_predicted.flatten()})\n",
    "data.head(30)"
   ]
  },
  {
   "cell_type": "markdown",
   "id": "6b4f765a",
   "metadata": {},
   "source": [
    "##### It is evident that the model is not a great fit as we can see there is quite a difference between actual and predicted values.\n",
    "\n",
    "#### Compare how the regression fits the training set"
   ]
  },
  {
   "cell_type": "code",
   "execution_count": 28,
   "id": "dca51385",
   "metadata": {},
   "outputs": [],
   "source": [
    "# PredictX_train\n",
    "y_predicted_train = regression.predict(X_train) "
   ]
  },
  {
   "cell_type": "code",
   "execution_count": 29,
   "id": "a289adc0",
   "metadata": {},
   "outputs": [],
   "source": [
    "rmse = mean_squared_error(y_train, y_predicted_train)\n",
    "r2 = r2_score(y_train, y_predicted_train)"
   ]
  },
  {
   "cell_type": "code",
   "execution_count": 30,
   "id": "185d146a",
   "metadata": {},
   "outputs": [
    {
     "name": "stdout",
     "output_type": "stream",
     "text": [
      "Slope: [[0.64940439]]\n",
      "Mean squared error:  8583.632953446062\n",
      "R2 score:  0.3561036172105695\n"
     ]
    }
   ],
   "source": [
    "print('Slope:' ,regression.coef_)\n",
    "print('Mean squared error: ', rmse)\n",
    "print('R2 score: ', r2)"
   ]
  },
  {
   "cell_type": "code",
   "execution_count": 31,
   "id": "1ffea260",
   "metadata": {},
   "outputs": [
    {
     "data": {
      "image/png": "[encoded data removed]",
      "text/plain": [
       "<Figure size 640x480 with 1 Axes>"
      ]
     },
     "metadata": {},
     "output_type": "display_data"
    }
   ],
   "source": [
    "# Visualizing the training set results.\n",
    "plot_test = plt\n",
    "plot_test.scatter(X_train, y_train, color='green', s = 15)\n",
    "plot_test.plot(X_train, y_predicted_train, color='red', linewidth =3)\n",
    "plot_test.title('PM Concentration vs AQI (Train set)')\n",
    "plot_test.xlabel('PM')\n",
    "plot_test.ylabel('AQI')\n",
    "plot_test.show()"
   ]
  },
  {
   "cell_type": "markdown",
   "id": "8cbac8cf",
   "metadata": {},
   "source": [
    "### Bonus: performance improvement after removing outliers"
   ]
  },
  {
   "cell_type": "code",
   "execution_count": 32,
   "id": "23f20d1b",
   "metadata": {},
   "outputs": [],
   "source": [
    "# Clean the extreme values from the \"Price per Unit\" variable observed during the consistency checks.\n",
    "df_test = df[df['PM'] <=400] "
   ]
  },
  {
   "cell_type": "code",
   "execution_count": 33,
   "id": "267cf9cc",
   "metadata": {},
   "outputs": [
    {
     "data": {
      "image/png": "[encoded data removed]",
      "text/plain": [
       "<Figure size 640x480 with 1 Axes>"
      ]
     },
     "metadata": {},
     "output_type": "display_data"
    }
   ],
   "source": [
    "# See how the scatterplot looks without outliers.\n",
    "df_test.plot(x = 'PM', y='AQI', style='o')  \n",
    "plot_test.title('PM Concentration vs AQI')\n",
    "plot_test.xlabel('PM')\n",
    "plot_test.ylabel('AQI')\n",
    "plot_test.show()"
   ]
  },
  {
   "cell_type": "code",
   "execution_count": 34,
   "id": "49316c41",
   "metadata": {},
   "outputs": [],
   "source": [
    "# Reshape again.\n",
    "X_2 = df_test['PM'].values.reshape(-1,1)\n",
    "y_2 = df_test['AQI'].values.reshape(-1,1)"
   ]
  },
  {
   "cell_type": "code",
   "execution_count": 35,
   "id": "75199781",
   "metadata": {},
   "outputs": [],
   "source": [
    "# Split data into a training set and a test set.\n",
    "X_train_2, X_test_2, y_train_2, y_test_2 = train_test_split(X_2, y_2, test_size=0.3, random_state=0)"
   ]
  },
  {
   "cell_type": "code",
   "execution_count": 36,
   "id": "aa64f513",
   "metadata": {},
   "outputs": [
    {
     "data": {
      "text/html": [
       "<style>#sk-container-id-2 {color: black;background-color: white;}#sk-container-id-2 pre{padding: 0;}#sk-container-id-2 div.sk-toggleable {background-color: white;}#sk-container-id-2 label.sk-toggleable__label {cursor: pointer;display: block;width: 100%;margin-bottom: 0;padding: 0.3em;box-sizing: border-box;text-align: center;}#sk-container-id-2 label.sk-toggleable__label-arrow:before {content: \"▸\";float: left;margin-right: 0.25em;color: #696969;}#sk-container-id-2 label.sk-toggleable__label-arrow:hover:before {color: black;}#sk-container-id-2 div.sk-estimator:hover label.sk-toggleable__label-arrow:before {color: black;}#sk-container-id-2 div.sk-toggleable__content {max-height: 0;max-width: 0;overflow: hidden;text-align: left;background-color: #f0f8ff;}#sk-container-id-2 div.sk-toggleable__content pre {margin: 0.2em;color: black;border-radius: 0.25em;background-color: #f0f8ff;}#sk-container-id-2 input.sk-toggleable__control:checked~div.sk-toggleable__content {max-height: 200px;max-width: 100%;overflow: auto;}#sk-container-id-2 input.sk-toggleable__control:checked~label.sk-toggleable__label-arrow:before {content: \"▾\";}#sk-container-id-2 div.sk-estimator input.sk-toggleable__control:checked~label.sk-toggleable__label {background-color: #d4ebff;}#sk-container-id-2 div.sk-label input.sk-toggleable__control:checked~label.sk-toggleable__label {background-color: #d4ebff;}#sk-container-id-2 input.sk-hidden--visually {border: 0;clip: rect(1px 1px 1px 1px);clip: rect(1px, 1px, 1px, 1px);height: 1px;margin: -1px;overflow: hidden;padding: 0;position: absolute;width: 1px;}#sk-container-id-2 div.sk-estimator {font-family: monospace;background-color: #f0f8ff;border: 1px dotted black;border-radius: 0.25em;box-sizing: border-box;margin-bottom: 0.5em;}#sk-container-id-2 div.sk-estimator:hover {background-color: #d4ebff;}#sk-container-id-2 div.sk-parallel-item::after {content: \"\";width: 100%;border-bottom: 1px solid gray;flex-grow: 1;}#sk-container-id-2 div.sk-label:hover label.sk-toggleable__label {background-color: #d4ebff;}#sk-container-id-2 div.sk-serial::before {content: \"\";position: absolute;border-left: 1px solid gray;box-sizing: border-box;top: 0;bottom: 0;left: 50%;z-index: 0;}#sk-container-id-2 div.sk-serial {display: flex;flex-direction: column;align-items: center;background-color: white;padding-right: 0.2em;padding-left: 0.2em;position: relative;}#sk-container-id-2 div.sk-item {position: relative;z-index: 1;}#sk-container-id-2 div.sk-parallel {display: flex;align-items: stretch;justify-content: center;background-color: white;position: relative;}#sk-container-id-2 div.sk-item::before, #sk-container-id-2 div.sk-parallel-item::before {content: \"\";position: absolute;border-left: 1px solid gray;box-sizing: border-box;top: 0;bottom: 0;left: 50%;z-index: -1;}#sk-container-id-2 div.sk-parallel-item {display: flex;flex-direction: column;z-index: 1;position: relative;background-color: white;}#sk-container-id-2 div.sk-parallel-item:first-child::after {align-self: flex-end;width: 50%;}#sk-container-id-2 div.sk-parallel-item:last-child::after {align-self: flex-start;width: 50%;}#sk-container-id-2 div.sk-parallel-item:only-child::after {width: 0;}#sk-container-id-2 div.sk-dashed-wrapped {border: 1px dashed gray;margin: 0 0.4em 0.5em 0.4em;box-sizing: border-box;padding-bottom: 0.4em;background-color: white;}#sk-container-id-2 div.sk-label label {font-family: monospace;font-weight: bold;display: inline-block;line-height: 1.2em;}#sk-container-id-2 div.sk-label-container {text-align: center;}#sk-container-id-2 div.sk-container {/* jupyter's `normalize.less` sets `[hidden] { display: none; }` but bootstrap.min.css set `[hidden] { display: none !important; }` so we also need the `!important` here to be able to override the default hidden behavior on the sphinx rendered scikit-learn.org. See: https://github.com/scikit-learn/scikit-learn/issues/21755 */display: inline-block !important;position: relative;}#sk-container-id-2 div.sk-text-repr-fallback {display: none;}</style><div id=\"sk-container-id-2\" class=\"sk-top-container\"><div class=\"sk-text-repr-fallback\"><pre>LinearRegression()</pre><b>In a Jupyter environment, please rerun this cell to show the HTML representation or trust the notebook. <br />On GitHub, the HTML representation is unable to render, please try loading this page with nbviewer.org.</b></div><div class=\"sk-container\" hidden><div class=\"sk-item\"><div class=\"sk-estimator sk-toggleable\"><input class=\"sk-toggleable__control sk-hidden--visually\" id=\"sk-estimator-id-2\" type=\"checkbox\" checked><label for=\"sk-estimator-id-2\" class=\"sk-toggleable__label sk-toggleable__label-arrow\">LinearRegression</label><div class=\"sk-toggleable__content\"><pre>LinearRegression()</pre></div></div></div></div></div>"
      ],
      "text/plain": [
       "LinearRegression()"
      ]
     },
     "execution_count": 36,
     "metadata": {},
     "output_type": "execute_result"
    }
   ],
   "source": [
    "# Run and fit the regression.\n",
    "regression = LinearRegression()  \n",
    "regression.fit(X_train_2, y_train_2)"
   ]
  },
  {
   "cell_type": "code",
   "execution_count": 37,
   "id": "ea695399",
   "metadata": {},
   "outputs": [],
   "source": [
    "# Predict y value from X.\n",
    "y_predicted_2 = regression.predict(X_test_2)"
   ]
  },
  {
   "cell_type": "code",
   "execution_count": 38,
   "id": "222667b5",
   "metadata": {},
   "outputs": [],
   "source": [
    "rmse = mean_squared_error(y_test_2, y_predicted_2)\n",
    "r2 = r2_score(y_test_2, y_predicted_2)"
   ]
  },
  {
   "cell_type": "code",
   "execution_count": 39,
   "id": "9588f5eb",
   "metadata": {},
   "outputs": [
    {
     "name": "stdout",
     "output_type": "stream",
     "text": [
      "Slope: [[0.71143675]]\n",
      "Mean squared error:  9167.22925029682\n",
      "R2 score:  0.29828900359688304\n"
     ]
    }
   ],
   "source": [
    "print('Slope:' ,regression.coef_)\n",
    "print('Mean squared error: ', rmse)\n",
    "print('R2 score: ', r2)"
   ]
  },
  {
   "cell_type": "code",
   "execution_count": 40,
   "id": "3d86bb09",
   "metadata": {},
   "outputs": [
    {
     "data": {
      "image/png": "[encoded data removed]",
      "text/plain": [
       "<Figure size 640x480 with 1 Axes>"
      ]
     },
     "metadata": {},
     "output_type": "display_data"
    }
   ],
   "source": [
    "# Visualizing the test set results.\n",
    "plot_test = plt\n",
    "plot_test.scatter(X_test_2, y_test_2, color='gray', s = 15)\n",
    "plot_test.plot(X_test_2, y_predicted_2, color='red', linewidth =3)\n",
    "plot_test.title('PM vs AQI (Test set)')\n",
    "plot_test.xlabel('PM')\n",
    "plot_test.ylabel('AQI')\n",
    "plot_test.show()"
   ]
  },
  {
   "cell_type": "code",
   "execution_count": 41,
   "id": "5982cfe7",
   "metadata": {},
   "outputs": [
    {
     "data": {
      "text/html": [
       "<div>\n",
       "<style scoped>\n",
       "    .dataframe tbody tr th:only-of-type {\n",
       "        vertical-align: middle;\n",
       "    }\n",
       "\n",
       "    .dataframe tbody tr th {\n",
       "        vertical-align: top;\n",
       "    }\n",
       "\n",
       "    .dataframe thead th {\n",
       "        text-align: right;\n",
       "    }\n",
       "</style>\n",
       "<table border=\"1\" class=\"dataframe\">\n",
       "  <thead>\n",
       "    <tr style=\"text-align: right;\">\n",
       "      <th></th>\n",
       "      <th>Actual</th>\n",
       "      <th>Predicted</th>\n",
       "    </tr>\n",
       "  </thead>\n",
       "  <tbody>\n",
       "    <tr>\n",
       "      <th>0</th>\n",
       "      <td>54.064516</td>\n",
       "      <td>92.351706</td>\n",
       "    </tr>\n",
       "    <tr>\n",
       "      <th>1</th>\n",
       "      <td>251.000000</td>\n",
       "      <td>305.215647</td>\n",
       "    </tr>\n",
       "    <tr>\n",
       "      <th>2</th>\n",
       "      <td>218.612903</td>\n",
       "      <td>222.978149</td>\n",
       "    </tr>\n",
       "    <tr>\n",
       "      <th>3</th>\n",
       "      <td>126.965517</td>\n",
       "      <td>198.667611</td>\n",
       "    </tr>\n",
       "    <tr>\n",
       "      <th>4</th>\n",
       "      <td>465.032258</td>\n",
       "      <td>156.636901</td>\n",
       "    </tr>\n",
       "    <tr>\n",
       "      <th>5</th>\n",
       "      <td>219.400000</td>\n",
       "      <td>269.233984</td>\n",
       "    </tr>\n",
       "    <tr>\n",
       "      <th>6</th>\n",
       "      <td>143.580645</td>\n",
       "      <td>82.491881</td>\n",
       "    </tr>\n",
       "    <tr>\n",
       "      <th>7</th>\n",
       "      <td>148.645161</td>\n",
       "      <td>185.041587</td>\n",
       "    </tr>\n",
       "    <tr>\n",
       "      <th>8</th>\n",
       "      <td>188.903226</td>\n",
       "      <td>226.012541</td>\n",
       "    </tr>\n",
       "    <tr>\n",
       "      <th>9</th>\n",
       "      <td>145.580645</td>\n",
       "      <td>205.169969</td>\n",
       "    </tr>\n",
       "    <tr>\n",
       "      <th>10</th>\n",
       "      <td>47.866667</td>\n",
       "      <td>79.235077</td>\n",
       "    </tr>\n",
       "    <tr>\n",
       "      <th>11</th>\n",
       "      <td>76.633333</td>\n",
       "      <td>69.791465</td>\n",
       "    </tr>\n",
       "    <tr>\n",
       "      <th>12</th>\n",
       "      <td>29.333333</td>\n",
       "      <td>72.841158</td>\n",
       "    </tr>\n",
       "    <tr>\n",
       "      <th>13</th>\n",
       "      <td>70.533333</td>\n",
       "      <td>103.109234</td>\n",
       "    </tr>\n",
       "    <tr>\n",
       "      <th>14</th>\n",
       "      <td>110.032258</td>\n",
       "      <td>149.764652</td>\n",
       "    </tr>\n",
       "    <tr>\n",
       "      <th>15</th>\n",
       "      <td>189.709677</td>\n",
       "      <td>222.615316</td>\n",
       "    </tr>\n",
       "    <tr>\n",
       "      <th>16</th>\n",
       "      <td>122.000000</td>\n",
       "      <td>169.450107</td>\n",
       "    </tr>\n",
       "    <tr>\n",
       "      <th>17</th>\n",
       "      <td>0.000000</td>\n",
       "      <td>47.655348</td>\n",
       "    </tr>\n",
       "    <tr>\n",
       "      <th>18</th>\n",
       "      <td>53.161290</td>\n",
       "      <td>86.083260</td>\n",
       "    </tr>\n",
       "    <tr>\n",
       "      <th>19</th>\n",
       "      <td>56.032258</td>\n",
       "      <td>105.812548</td>\n",
       "    </tr>\n",
       "    <tr>\n",
       "      <th>20</th>\n",
       "      <td>125.166667</td>\n",
       "      <td>163.118924</td>\n",
       "    </tr>\n",
       "    <tr>\n",
       "      <th>21</th>\n",
       "      <td>96.482759</td>\n",
       "      <td>142.970945</td>\n",
       "    </tr>\n",
       "    <tr>\n",
       "      <th>22</th>\n",
       "      <td>61.612903</td>\n",
       "      <td>91.514965</td>\n",
       "    </tr>\n",
       "    <tr>\n",
       "      <th>23</th>\n",
       "      <td>245.533333</td>\n",
       "      <td>293.043163</td>\n",
       "    </tr>\n",
       "    <tr>\n",
       "      <th>24</th>\n",
       "      <td>80.064516</td>\n",
       "      <td>132.116431</td>\n",
       "    </tr>\n",
       "    <tr>\n",
       "      <th>25</th>\n",
       "      <td>95.129032</td>\n",
       "      <td>79.186684</td>\n",
       "    </tr>\n",
       "    <tr>\n",
       "      <th>26</th>\n",
       "      <td>278.516129</td>\n",
       "      <td>74.220855</td>\n",
       "    </tr>\n",
       "    <tr>\n",
       "      <th>27</th>\n",
       "      <td>0.000000</td>\n",
       "      <td>47.655348</td>\n",
       "    </tr>\n",
       "    <tr>\n",
       "      <th>28</th>\n",
       "      <td>362.516129</td>\n",
       "      <td>190.693608</td>\n",
       "    </tr>\n",
       "    <tr>\n",
       "      <th>29</th>\n",
       "      <td>0.000000</td>\n",
       "      <td>47.655348</td>\n",
       "    </tr>\n",
       "  </tbody>\n",
       "</table>\n",
       "</div>"
      ],
      "text/plain": [
       "        Actual   Predicted\n",
       "0    54.064516   92.351706\n",
       "1   251.000000  305.215647\n",
       "2   218.612903  222.978149\n",
       "3   126.965517  198.667611\n",
       "4   465.032258  156.636901\n",
       "5   219.400000  269.233984\n",
       "6   143.580645   82.491881\n",
       "7   148.645161  185.041587\n",
       "8   188.903226  226.012541\n",
       "9   145.580645  205.169969\n",
       "10   47.866667   79.235077\n",
       "11   76.633333   69.791465\n",
       "12   29.333333   72.841158\n",
       "13   70.533333  103.109234\n",
       "14  110.032258  149.764652\n",
       "15  189.709677  222.615316\n",
       "16  122.000000  169.450107\n",
       "17    0.000000   47.655348\n",
       "18   53.161290   86.083260\n",
       "19   56.032258  105.812548\n",
       "20  125.166667  163.118924\n",
       "21   96.482759  142.970945\n",
       "22   61.612903   91.514965\n",
       "23  245.533333  293.043163\n",
       "24   80.064516  132.116431\n",
       "25   95.129032   79.186684\n",
       "26  278.516129   74.220855\n",
       "27    0.000000   47.655348\n",
       "28  362.516129  190.693608\n",
       "29    0.000000   47.655348"
      ]
     },
     "execution_count": 41,
     "metadata": {},
     "output_type": "execute_result"
    }
   ],
   "source": [
    "data = pd.DataFrame({'Actual': y_test_2.flatten(), 'Predicted': y_predicted_2.flatten()})\n",
    "data.head(30)"
   ]
  },
  {
   "cell_type": "markdown",
   "id": "2dfcbefd",
   "metadata": {},
   "source": [
    "# This certainly does not fit the model at all, this could be a distortion of reality (as we don’t know for a fact that the extreme values were indeed outliers)"
   ]
  },
  {
   "cell_type": "code",
   "execution_count": 42,
   "id": "f22c2c75",
   "metadata": {},
   "outputs": [],
   "source": [
    "# Exporting final data set as pkl. format\n",
    "df.to_pickle(os.path.join(path, '02 Data', 'Prepared Data', 'city_final_V2.pkl'))"
   ]
  },
  {
   "cell_type": "code",
   "execution_count": null,
   "id": "d95bda90",
   "metadata": {},
   "outputs": [],
   "source": []
  }
 ],
 "metadata": {
  "kernelspec": {
   "display_name": "Python 3 (ipykernel)",
   "language": "python",
   "name": "python3"
  },
  "language_info": {
   "codemirror_mode": {
    "name": "ipython",
    "version": 3
   },
   "file_extension": ".py",
   "mimetype": "text/x-python",
   "name": "python",
   "nbconvert_exporter": "python",
   "pygments_lexer": "ipython3",
   "version": "3.10.9"
  }
 },
 "nbformat": 4,
 "nbformat_minor": 5
}
